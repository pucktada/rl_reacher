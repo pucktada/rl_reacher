{
 "cells": [
  {
   "cell_type": "code",
   "execution_count": 1,
   "metadata": {
    "ExecuteTime": {
     "end_time": "2019-10-25T03:54:10.203781Z",
     "start_time": "2019-10-25T03:54:08.694764Z"
    }
   },
   "outputs": [
    {
     "data": {
      "text/plain": [
       "<torch._C.Generator at 0x2931e360f50>"
      ]
     },
     "execution_count": 1,
     "metadata": {},
     "output_type": "execute_result"
    }
   ],
   "source": [
    "from unityagents import UnityEnvironment\n",
    "import numpy as np\n",
    "import time\n",
    "import random\n",
    "import torch\n",
    "from ddpg import Agent\n",
    "\n",
    "import matplotlib.pyplot as plt\n",
    "%matplotlib inline\n",
    "\n",
    "seed = 0\n",
    "\n",
    "random.seed(seed)\n",
    "torch.manual_seed(seed)"
   ]
  },
  {
   "cell_type": "markdown",
   "metadata": {},
   "source": [
    "## Environment\n",
    "\n",
    "In this environment, a double-jointed arm can move to target locations. A reward of +0.1 is provided for each step that the agent's hand is in the goal location. Thus, the goal of your agent is to maintain its position at the target location for as many time steps as possible.\n",
    "\n",
    "The observation space consists of 33 variables corresponding to position, rotation, velocity, and angular velocities of the arm. Each action is a vector with four numbers, corresponding to torque applicable to two joints. Every entry in the action vector must be a number between -1 and 1.\n",
    "\n",
    "We are doing the 2nd version of the project, which contains 20 identical agents, each with its own copy of the environment.\n",
    "\n",
    "Run the code cell below to print some information about the environment."
   ]
  },
  {
   "cell_type": "code",
   "execution_count": 2,
   "metadata": {
    "ExecuteTime": {
     "end_time": "2019-10-25T03:54:14.688834Z",
     "start_time": "2019-10-25T03:54:10.318784Z"
    }
   },
   "outputs": [
    {
     "name": "stderr",
     "output_type": "stream",
     "text": [
      "INFO:unityagents:\n",
      "'Academy' started successfully!\n",
      "Unity Academy name: Academy\n",
      "        Number of Brains: 1\n",
      "        Number of External Brains : 1\n",
      "        Lesson number : 0\n",
      "        Reset Parameters :\n",
      "\t\tgoal_speed -> 1.0\n",
      "\t\tgoal_size -> 5.0\n",
      "Unity brain name: ReacherBrain\n",
      "        Number of Visual Observations (per agent): 0\n",
      "        Vector Observation space type: continuous\n",
      "        Vector Observation space size (per agent): 33\n",
      "        Number of stacked Vector Observation: 1\n",
      "        Vector Action space type: continuous\n",
      "        Vector Action space size (per agent): 4\n",
      "        Vector Action descriptions: , , , \n"
     ]
    },
    {
     "name": "stdout",
     "output_type": "stream",
     "text": [
      "Number of agents: 20\n",
      "Size of each action: 4\n",
      "There are 20 agents. Each observes a state with length: 33\n",
      "The state for the first agent looks like: [ 0.00000000e+00 -4.00000000e+00  0.00000000e+00  1.00000000e+00\n",
      " -0.00000000e+00 -0.00000000e+00 -4.37113883e-08  0.00000000e+00\n",
      "  0.00000000e+00  0.00000000e+00  0.00000000e+00  0.00000000e+00\n",
      "  0.00000000e+00  0.00000000e+00 -1.00000000e+01  0.00000000e+00\n",
      "  1.00000000e+00 -0.00000000e+00 -0.00000000e+00 -4.37113883e-08\n",
      "  0.00000000e+00  0.00000000e+00  0.00000000e+00  0.00000000e+00\n",
      "  0.00000000e+00  0.00000000e+00  5.75471878e+00 -1.00000000e+00\n",
      "  5.55726624e+00  0.00000000e+00  1.00000000e+00  0.00000000e+00\n",
      " -1.68164849e-01]\n"
     ]
    }
   ],
   "source": [
    "env = UnityEnvironment(file_name='Reacher_Windows_x86_64/Reacher.exe')\n",
    "# get the default brain\n",
    "brain_name = env.brain_names[0]\n",
    "brain = env.brains[brain_name]\n",
    "\n",
    "# reset the environment\n",
    "env_info = env.reset(train_mode=True)[brain_name]\n",
    "\n",
    "# number of agents\n",
    "num_agents = len(env_info.agents)\n",
    "print('Number of agents:', num_agents)\n",
    "\n",
    "# size of each action\n",
    "action_size = brain.vector_action_space_size\n",
    "print('Size of each action:', action_size)\n",
    "\n",
    "# examine the state space \n",
    "states = env_info.vector_observations\n",
    "state_size = states.shape[1]\n",
    "print('There are {} agents. Each observes a state with length: {}'.format(states.shape[0], state_size))\n",
    "print('The state for the first agent looks like:', states[0])"
   ]
  },
  {
   "cell_type": "markdown",
   "metadata": {},
   "source": [
    "## RL Agent & Model\n",
    "\n",
    "### Model\n",
    "model: ddpg/model.py\n",
    "model.py contains two neural network model, a actor network and a critic network. \n",
    "\n",
    "#### The actor network\n",
    "The actor network is a 3-layers fully-connected neural network of size (400x300x4) with a batch normalization layer. The actor network takes a state (of size 33) and output an action. \n",
    "\n",
    "#### The critic network\n",
    "The critic network is a 3-layers fully-connected neural network of size (400x(300+4)x1) with a batch normalization layer. The critic network takes a state 's' (of size 33) and an action 'a' (of size 4) and approximate the q-value Q(s,a). \n",
    "\n",
    "### Agents\n",
    "We implement a ddpg agent (ddpg/agent.py) which use two networks (actor and critic) to learn the optimal policy. \n",
    "At every time step, all 20 agents collect experiences and add them to one shared memory buffer. After every 20 time-steps, we then let the agent do the network update 10 times (from 10 different sample from the memory buffer). To prevent gradient explosion, we use gradient clipping on the critic network. We also turn off the noise parameters. \n",
    "\n",
    "The hyper-paremeters are as followed:\n",
    "\n",
    "- BUFFER_SIZE = int(1e6)\n",
    "- BATCH_SIZE = 512\n",
    "- GAMMA = 0.99 # the discount factor\n",
    "- TAU = 1e-3       # the soft-update parameter\n",
    "- LR_ACTOR = 1e-3  # the learning rate of the actor \n",
    "- LR_CRITIC = 1e-3 # the learning rate of the critic  "
   ]
  },
  {
   "cell_type": "code",
   "execution_count": 4,
   "metadata": {
    "ExecuteTime": {
     "end_time": "2019-10-25T03:54:19.349887Z",
     "start_time": "2019-10-25T03:54:19.337885Z"
    }
   },
   "outputs": [],
   "source": [
    "def run_episode(env, brain_name, agent, max_t=1000, update_freq=20, num_updates=10):\n",
    "    env_info = env.reset(train_mode=True)[brain_name]     # reset the environment\n",
    "    states   = env_info.vector_observations               # get the current state (for each agent)\n",
    "    agent.reset()\n",
    "\n",
    "    num_agents = len(env_info.agents)\n",
    "    scores = np.zeros(num_agents)                          # initialize the score (for each agent)\n",
    "    for t in range(max_t):\n",
    "        actions     = agent.act(states, add_noise=False)\n",
    "        env_info    = env.step(actions)[brain_name] \n",
    "        \n",
    "        next_states = env_info.vector_observations         # get next state (for each agent)\n",
    "        rewards     = env_info.rewards                     # get reward (for each agent)\n",
    "        dones       = env_info.local_done                  # see if episode finished\n",
    "\n",
    "        for state, action, reward, next_state, done in zip(states, actions, rewards, next_states, dones):\n",
    "            agent.add_experience(state, action, reward, next_state, done)\n",
    "                \n",
    "        if (t % update_freq) == 0:\n",
    "            for i in range(num_updates):\n",
    "                agent.learn()\n",
    "        \n",
    "        states  = next_states                               # roll over states to next time step\n",
    "        scores += rewards\n",
    "        if np.any(dones):\n",
    "            break \n",
    "\n",
    "    return scores"
   ]
  },
  {
   "cell_type": "code",
   "execution_count": 5,
   "metadata": {
    "ExecuteTime": {
     "end_time": "2019-10-25T03:54:23.987939Z",
     "start_time": "2019-10-25T03:54:21.081906Z"
    }
   },
   "outputs": [],
   "source": [
    "agent = Agent(state_size=state_size, action_size=action_size)"
   ]
  },
  {
   "cell_type": "code",
   "execution_count": 6,
   "metadata": {
    "ExecuteTime": {
     "end_time": "2019-10-25T06:11:10.066466Z",
     "start_time": "2019-10-25T03:54:23.991939Z"
    }
   },
   "outputs": [
    {
     "name": "stdout",
     "output_type": "stream",
     "text": [
      "0: Episode Score: [0.45]\tAvg Score: [0.45]\n",
      "2: Episode Score: [0.60]\tAvg Score: [0.48]\n",
      "4: Episode Score: [0.57]\tAvg Score: [0.53]\n",
      "6: Episode Score: [1.18]\tAvg Score: [0.67]\n",
      "8: Episode Score: [1.51]\tAvg Score: [0.81]\n",
      "10: Episode Score: [2.79]\tAvg Score: [1.10]\n",
      "12: Episode Score: [2.81]\tAvg Score: [1.37]\n",
      "14: Episode Score: [3.77]\tAvg Score: [1.66]\n",
      "16: Episode Score: [6.65]\tAvg Score: [2.15]\n",
      "18: Episode Score: [14.57]\tAvg Score: [3.14]\n",
      "20: Episode Score: [21.18]\tAvg Score: [4.52]\n",
      "22: Episode Score: [30.06]\tAvg Score: [6.56]\n",
      "24: Episode Score: [32.46]\tAvg Score: [8.57]\n",
      "26: Episode Score: [35.65]\tAvg Score: [10.55]\n",
      "28: Episode Score: [35.82]\tAvg Score: [12.32]\n",
      "30: Episode Score: [36.67]\tAvg Score: [13.83]\n",
      "32: Episode Score: [39.25]\tAvg Score: [15.34]\n",
      "34: Episode Score: [39.22]\tAvg Score: [16.69]\n",
      "36: Episode Score: [39.24]\tAvg Score: [17.90]\n",
      "38: Episode Score: [39.31]\tAvg Score: [19.00]\n",
      "40: Episode Score: [39.52]\tAvg Score: [20.00]\n",
      "42: Episode Score: [39.49]\tAvg Score: [20.90]\n",
      "44: Episode Score: [39.46]\tAvg Score: [21.72]\n",
      "46: Episode Score: [39.37]\tAvg Score: [22.47]\n",
      "48: Episode Score: [39.33]\tAvg Score: [23.16]\n",
      "50: Episode Score: [39.38]\tAvg Score: [23.80]\n",
      "52: Episode Score: [39.44]\tAvg Score: [24.38]\n",
      "54: Episode Score: [39.30]\tAvg Score: [24.93]\n",
      "56: Episode Score: [39.21]\tAvg Score: [25.43]\n",
      "58: Episode Score: [39.18]\tAvg Score: [25.90]\n",
      "60: Episode Score: [39.39]\tAvg Score: [26.33]\n",
      "62: Episode Score: [39.42]\tAvg Score: [26.74]\n",
      "64: Episode Score: [39.32]\tAvg Score: [27.12]\n",
      "66: Episode Score: [39.20]\tAvg Score: [27.48]\n",
      "68: Episode Score: [38.53]\tAvg Score: [27.80]\n",
      "70: Episode Score: [38.85]\tAvg Score: [28.11]\n",
      "72: Episode Score: [35.58]\tAvg Score: [28.35]\n",
      "74: Episode Score: [31.86]\tAvg Score: [28.45]\n",
      "76: Episode Score: [32.57]\tAvg Score: [28.52]\n",
      "78: Episode Score: [37.34]\tAvg Score: [28.70]\n",
      "80: Episode Score: [36.41]\tAvg Score: [28.91]\n",
      "82: Episode Score: [35.03]\tAvg Score: [29.05]\n",
      "84: Episode Score: [38.04]\tAvg Score: [29.23]\n",
      "86: Episode Score: [35.62]\tAvg Score: [29.39]\n",
      "88: Episode Score: [37.34]\tAvg Score: [29.57]\n",
      "90: Episode Score: [37.74]\tAvg Score: [29.74]\n",
      "92: Episode Score: [38.33]\tAvg Score: [29.93]\n",
      "94: Episode Score: [38.84]\tAvg Score: [30.12]\n",
      "96: Episode Score: [38.28]\tAvg Score: [30.29]\n",
      "98: Episode Score: [38.72]\tAvg Score: [30.46]\n",
      "100: Episode Score: [38.58]\tAvg Score: [30.91]\n",
      "102: Episode Score: [38.50]\tAvg Score: [31.66]\n",
      "104: Episode Score: [38.14]\tAvg Score: [32.41]\n",
      "106: Episode Score: [37.75]\tAvg Score: [33.15]\n",
      "108: Episode Score: [37.98]\tAvg Score: [33.87]\n",
      "110: Episode Score: [37.79]\tAvg Score: [34.57]\n",
      "112: Episode Score: [38.42]\tAvg Score: [35.28]\n",
      "114: Episode Score: [37.99]\tAvg Score: [35.98]\n",
      "116: Episode Score: [38.60]\tAvg Score: [36.63]\n",
      "118: Episode Score: [38.68]\tAvg Score: [37.18]\n",
      "120: Episode Score: [39.00]\tAvg Score: [37.60]\n",
      "122: Episode Score: [38.88]\tAvg Score: [37.81]\n",
      "124: Episode Score: [38.75]\tAvg Score: [37.94]\n",
      "126: Episode Score: [38.82]\tAvg Score: [38.02]\n",
      "128: Episode Score: [39.05]\tAvg Score: [38.08]\n",
      "130: Episode Score: [39.26]\tAvg Score: [38.14]\n",
      "132: Episode Score: [39.30]\tAvg Score: [38.15]\n",
      "134: Episode Score: [39.36]\tAvg Score: [38.16]\n",
      "136: Episode Score: [39.06]\tAvg Score: [38.16]\n",
      "138: Episode Score: [38.57]\tAvg Score: [38.14]\n",
      "140: Episode Score: [38.38]\tAvg Score: [38.13]\n",
      "142: Episode Score: [38.66]\tAvg Score: [38.11]\n",
      "144: Episode Score: [38.75]\tAvg Score: [38.10]\n",
      "146: Episode Score: [38.72]\tAvg Score: [38.09]\n",
      "148: Episode Score: [38.38]\tAvg Score: [38.07]\n",
      "150: Episode Score: [38.23]\tAvg Score: [38.05]\n",
      "152: Episode Score: [38.12]\tAvg Score: [38.03]\n",
      "154: Episode Score: [36.52]\tAvg Score: [37.98]\n",
      "156: Episode Score: [35.57]\tAvg Score: [37.91]\n",
      "158: Episode Score: [36.61]\tAvg Score: [37.87]\n",
      "160: Episode Score: [38.52]\tAvg Score: [37.85]\n",
      "162: Episode Score: [38.84]\tAvg Score: [37.84]\n",
      "164: Episode Score: [38.22]\tAvg Score: [37.82]\n",
      "166: Episode Score: [36.53]\tAvg Score: [37.78]\n",
      "168: Episode Score: [35.36]\tAvg Score: [37.72]\n",
      "170: Episode Score: [37.15]\tAvg Score: [37.67]\n",
      "172: Episode Score: [37.50]\tAvg Score: [37.68]\n",
      "174: Episode Score: [38.05]\tAvg Score: [37.79]\n",
      "176: Episode Score: [36.75]\tAvg Score: [37.91]\n",
      "178: Episode Score: [36.83]\tAvg Score: [37.95]\n",
      "180: Episode Score: [38.43]\tAvg Score: [37.97]\n",
      "182: Episode Score: [37.18]\tAvg Score: [38.03]\n",
      "186: Episode Score: [36.23]\tAvg Score: [38.06]\n",
      "188: Episode Score: [37.44]\tAvg Score: [38.06]\n",
      "190: Episode Score: [37.50]\tAvg Score: [38.06]\n",
      "192: Episode Score: [37.35]\tAvg Score: [38.05]\n",
      "194: Episode Score: [37.92]\tAvg Score: [38.03]\n",
      "196: Episode Score: [38.33]\tAvg Score: [38.03]\n",
      "198: Episode Score: [37.61]\tAvg Score: [38.00]\n"
     ]
    }
   ],
   "source": [
    "scores = []\n",
    "for i in range(200):\n",
    "    all_agent_scores = run_episode(env, brain_name, agent)\n",
    "    epi_score = np.mean(all_agent_scores)\n",
    "    scores += [epi_score]\n",
    "    \n",
    "    if (i % 2) == 0:\n",
    "        print('\\r%d: Episode Score: [%.2f]\\tAvg Score: [%.2f]' % (i, epi_score, np.mean(scores[-100:])))"
   ]
  },
  {
   "cell_type": "code",
   "execution_count": 7,
   "metadata": {
    "ExecuteTime": {
     "end_time": "2019-10-25T06:50:51.222863Z",
     "start_time": "2019-10-25T06:50:51.200863Z"
    }
   },
   "outputs": [],
   "source": [
    "# save parameters\n",
    "agent.save_model('model/actor.pt', 'model/critic.pt')"
   ]
  },
  {
   "cell_type": "markdown",
   "metadata": {
    "ExecuteTime": {
     "end_time": "2019-10-25T07:36:18.554947Z",
     "start_time": "2019-10-25T07:36:18.549947Z"
    }
   },
   "source": [
    "## Training Performance\n",
    "\n",
    "Our agent can solve the environment after 23 episodes (the average scores of 20 agents is 30+). And the performance of the agent remain above 30+ from the 22th episode onward (upto the 200th episode)."
   ]
  },
  {
   "cell_type": "code",
   "execution_count": 9,
   "metadata": {
    "ExecuteTime": {
     "end_time": "2019-10-25T07:33:04.685253Z",
     "start_time": "2019-10-25T07:33:03.818231Z"
    }
   },
   "outputs": [
    {
     "data": {
      "text/plain": [
       "[<matplotlib.lines.Line2D at 0x29336fef630>]"
      ]
     },
     "execution_count": 9,
     "metadata": {},
     "output_type": "execute_result"
    },
    {
     "data": {
      "image/png": "[encoded data removed]",
      "text/plain": [
       "<Figure size 432x288 with 1 Axes>"
      ]
     },
     "metadata": {
      "needs_background": "light"
     },
     "output_type": "display_data"
    }
   ],
   "source": [
    "# plot rewards score over 200 episodes\n",
    "plt.plot(scores)"
   ]
  },
  {
   "cell_type": "code",
   "execution_count": 8,
   "metadata": {
    "ExecuteTime": {
     "end_time": "2019-10-25T06:53:02.371628Z",
     "start_time": "2019-10-25T06:53:02.364624Z"
    }
   },
   "outputs": [],
   "source": [
    "agent.load_model('model/actor.pt', 'model/critic.pt')"
   ]
  },
  {
   "cell_type": "code",
   "execution_count": 11,
   "metadata": {
    "ExecuteTime": {
     "end_time": "2019-10-25T07:41:23.110447Z",
     "start_time": "2019-10-25T07:41:23.104445Z"
    }
   },
   "outputs": [],
   "source": [
    "def play_episode(env, brain_name, agent):\n",
    "    env_info = env.reset(train_mode=False)[brain_name]     # reset the environment\n",
    "    states   = env_info.vector_observations               # get the current state (for each agent)\n",
    "\n",
    "    num_agents = len(env_info.agents)\n",
    "    while True:\n",
    "        actions     = agent.act(states, add_noise=False)\n",
    "        env_info    = env.step(actions)[brain_name] \n",
    "        \n",
    "        next_states = env_info.vector_observations         # get next state (for each agent)\n",
    "        rewards     = env_info.rewards                     # get reward (for each agent)\n",
    "        dones       = env_info.local_done                  # see if episode finished\n",
    "\n",
    "        states  = next_states                               # roll over states to next time step\n",
    "        if np.any(dones):\n",
    "            break "
   ]
  },
  {
   "cell_type": "code",
   "execution_count": null,
   "metadata": {},
   "outputs": [],
   "source": [
    "play_episode(env, brain_name, agent)"
   ]
  },
  {
   "cell_type": "markdown",
   "metadata": {},
   "source": [
    "## Idea for Improvement\n",
    "\n",
    "- try implementing PPO instead of DDPG for the agent\n",
    "- use priroitized memory buffer (from project 1) instead of the vanilla buffer. "
   ]
  },
  {
   "cell_type": "code",
   "execution_count": null,
   "metadata": {},
   "outputs": [],
   "source": []
  }
 ],
 "metadata": {
  "kernelspec": {
   "display_name": "Python 3",
   "language": "python",
   "name": "python3"
  },
  "language_info": {
   "codemirror_mode": {
    "name": "ipython",
    "version": 3
   },
   "file_extension": ".py",
   "mimetype": "text/x-python",
   "name": "python",
   "nbconvert_exporter": "python",
   "pygments_lexer": "ipython3",
   "version": "3.6.7"
  },
  "toc": {
   "base_numbering": 1,
   "nav_menu": {},
   "number_sections": true,
   "sideBar": true,
   "skip_h1_title": false,
   "title_cell": "Table of Contents",
   "title_sidebar": "Contents",
   "toc_cell": false,
   "toc_position": {},
   "toc_section_display": true,
   "toc_window_display": false
  }
 },
 "nbformat": 4,
 "nbformat_minor": 2
}
